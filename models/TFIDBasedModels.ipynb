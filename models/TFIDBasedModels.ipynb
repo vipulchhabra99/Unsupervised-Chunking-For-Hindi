{
  "nbformat": 4,
  "nbformat_minor": 0,
  "metadata": {
    "colab": {
      "name": "TFIDBasedModels.ipynb",
      "provenance": [],
      "collapsed_sections": []
    },
    "kernelspec": {
      "name": "python3",
      "display_name": "Python 3"
    },
    "language_info": {
      "name": "python"
    }
  },
  "cells": [
    {
      "cell_type": "code",
      "metadata": {
        "id": "UxqjKStnfmjA"
      },
      "source": [
        "import numpy as np\n",
        "from sklearn.feature_extraction.text import TfidfVectorizer\n",
        "import pickle"
      ],
      "execution_count": 1,
      "outputs": []
    },
    {
      "cell_type": "markdown",
      "metadata": {
        "id": "cLIkU0T5iCSo"
      },
      "source": [
        "Generating All the tokens from dataset "
      ]
    },
    {
      "cell_type": "code",
      "metadata": {
        "id": "DQnDptAcgtPy"
      },
      "source": [
        "def preprocess_data(with_pos_tag = False):\n",
        "  total_states = []\n",
        "  f = open(\"dataset.txt\", \"r\",encoding = 'utf-8')\n",
        "  lines = f.readlines()\n",
        "  line = \"\"\n",
        "  for word in lines:\n",
        "    word = word.split('\\t')\n",
        "\n",
        "    if(len(word) != 1):\n",
        "      tag = word[1].strip()\n",
        "      word = word[0].strip()\n",
        "      \n",
        "      if(with_pos_tag == False):\n",
        "        total_states.append(word)\n",
        "      else:\n",
        "        total_states.append(word + \" \" + tag)\n",
        "  \n",
        "  import random\n",
        "  random.shuffle(total_states)\n",
        "\n",
        "  train_size = (len(total_states) * 80)//100\n",
        "\n",
        "  train_set = total_states[:train_size]\n",
        "  test_set = total_states[train_size:]\n",
        "\n",
        "  vectorizer = TfidfVectorizer().fit(total_states)\n",
        "  X_train = vectorizer.transform(train_set)\n",
        "  X_test = vectorizer.transform(test_set)\n",
        "  return train_set, test_set, X_train, X_test"
      ],
      "execution_count": 2,
      "outputs": []
    },
    {
      "cell_type": "code",
      "metadata": {
        "id": "7DU9JVUFtwYK"
      },
      "source": [
        "train_set, test_set, X_train, X_test = preprocess_data()"
      ],
      "execution_count": 3,
      "outputs": []
    },
    {
      "cell_type": "markdown",
      "metadata": {
        "id": "zWGgqppsjm2X"
      },
      "source": [
        "Training KMeans Model for the Train Set"
      ]
    },
    {
      "cell_type": "code",
      "metadata": {
        "colab": {
          "base_uri": "https://localhost:8080/"
        },
        "id": "mD_phLa4jmMX",
        "outputId": "536d89de-e849-4a53-8660-59203fcbf42d"
      },
      "source": [
        "from sklearn.cluster import KMeans\n",
        "modelkmeans = KMeans(n_clusters=2, init='k-means++', n_init=100, n_jobs = -1)\n",
        "modelkmeans.fit(X_train)"
      ],
      "execution_count": 4,
      "outputs": [
        {
          "output_type": "execute_result",
          "data": {
            "text/plain": [
              "KMeans(algorithm='auto', copy_x=True, init='k-means++', max_iter=300,\n",
              "       n_clusters=2, n_init=100, n_jobs=-1, precompute_distances='auto',\n",
              "       random_state=None, tol=0.0001, verbose=0)"
            ]
          },
          "metadata": {
            "tags": []
          },
          "execution_count": 4
        }
      ]
    },
    {
      "cell_type": "markdown",
      "metadata": {
        "id": "y87JNAANua4T"
      },
      "source": [
        "Generating Result Set For Measuring Accuracy\n",
        "\n"
      ]
    },
    {
      "cell_type": "code",
      "metadata": {
        "id": "VnZMZOhHjjcb"
      },
      "source": [
        "Y_train = modelkmeans.predict(X_train)\n",
        "Y_test = modelkmeans.predict(X_test)"
      ],
      "execution_count": 5,
      "outputs": []
    },
    {
      "cell_type": "markdown",
      "metadata": {
        "id": "qHcIB3beuW_P"
      },
      "source": [
        "  Calculating the Accuracy of the model"
      ]
    },
    {
      "cell_type": "code",
      "metadata": {
        "id": "P_wF7Ajft7WR"
      },
      "source": [
        "def measure_accuracy(train_set, test_set, Y_train, Y_test, with_pos_tag = True):\n",
        "  file2 = open('hin-token-chunk-conll-treebank.txt', 'r')\n",
        "  result_lines = file2.readlines()\n",
        "  tags = {}\n",
        "\n",
        "  for line in result_lines:\n",
        "    word = line.split('\\t')\n",
        "    if(len(word) != 1):\n",
        "      token = word[0].strip()\n",
        "      word = word[1].strip()\n",
        "      if(word[0] == 'B'):\n",
        "        tags[token] = 0\n",
        "\n",
        "      else:\n",
        "        tags[token] = 1\n",
        "\n",
        "  if(with_pos_tag == True):\n",
        "    for i in range(len(train_set)):\n",
        "      train_set[i] = train_set[i].split()[0]\n",
        "\n",
        "    for i in range(len(test_set)):\n",
        "      test_set[i] = test_set[i].split()[0]\n",
        "\n",
        "\n",
        "  total_correct = 0\n",
        "  for i in range(len(Y_train)):\n",
        "    if(Y_train[i] == tags[train_set[i]]):\n",
        "      total_correct += 1\n",
        "\n",
        "  print(\"Training Accuracy is : \", max(100 - (total_correct / len(train_set)*100), (total_correct / len(train_set)*100)))\n",
        "\n",
        "  total_correct = 0\n",
        "  for i in range(len(Y_test)):\n",
        "    if(Y_test[i] == tags[test_set[i]]):\n",
        "      total_correct += 1\n",
        "\n",
        "  print(\"Testing Accuracy is : \", max(100 - (total_correct / len(test_set)*100), (total_correct / len(test_set)*100)))"
      ],
      "execution_count": 6,
      "outputs": []
    },
    {
      "cell_type": "code",
      "metadata": {
        "colab": {
          "base_uri": "https://localhost:8080/"
        },
        "id": "FRZ8dEryurUu",
        "outputId": "0c914022-b2f2-46f1-bbe9-de6c2fd78eff"
      },
      "source": [
        "measure_accuracy(train_set, test_set, Y_train, Y_test)"
      ],
      "execution_count": 7,
      "outputs": [
        {
          "output_type": "stream",
          "text": [
            "Training Accuracy is :  55.34537817543658\n",
            "Testing Accuracy is :  55.400584593431375\n"
          ],
          "name": "stdout"
        }
      ]
    },
    {
      "cell_type": "code",
      "metadata": {
        "id": "PLAfUGdt9xdE"
      },
      "source": [
        "pickle.dump(modelkmeans, open(\"model_tfid_without_pos.pkl\", \"wb\"))"
      ],
      "execution_count": 8,
      "outputs": []
    },
    {
      "cell_type": "markdown",
      "metadata": {
        "id": "paJF6LsylVsq"
      },
      "source": [
        "Now Training Same model with Pos Tags"
      ]
    },
    {
      "cell_type": "code",
      "metadata": {
        "id": "1lC_4jmmuhHG"
      },
      "source": [
        "train_set, test_set, X_train, X_test = preprocess_data(with_pos_tag = True)"
      ],
      "execution_count": 9,
      "outputs": []
    },
    {
      "cell_type": "code",
      "metadata": {
        "id": "P0PE5-kinreI",
        "colab": {
          "base_uri": "https://localhost:8080/"
        },
        "outputId": "b0395e7b-7d4c-4c8e-872b-048e0ceb3e85"
      },
      "source": [
        "from sklearn.cluster import KMeans\n",
        "modelkmeans = KMeans(n_clusters=2, init='k-means++', n_init=100, n_jobs = -1)\n",
        "modelkmeans.fit(X_train)"
      ],
      "execution_count": 10,
      "outputs": [
        {
          "output_type": "execute_result",
          "data": {
            "text/plain": [
              "KMeans(algorithm='auto', copy_x=True, init='k-means++', max_iter=300,\n",
              "       n_clusters=2, n_init=100, n_jobs=-1, precompute_distances='auto',\n",
              "       random_state=None, tol=0.0001, verbose=0)"
            ]
          },
          "metadata": {
            "tags": []
          },
          "execution_count": 10
        }
      ]
    },
    {
      "cell_type": "code",
      "metadata": {
        "id": "HzhOMPJMs501"
      },
      "source": [
        "Y_train = modelkmeans.predict(X_train)\n",
        "Y_test = modelkmeans.predict(X_test)"
      ],
      "execution_count": 11,
      "outputs": []
    },
    {
      "cell_type": "code",
      "metadata": {
        "colab": {
          "base_uri": "https://localhost:8080/"
        },
        "id": "-n1JNaGRs9EB",
        "outputId": "857a222b-23a6-4c08-d12e-8141228303bc"
      },
      "source": [
        "measure_accuracy(train_set, test_set, Y_train, Y_test, with_pos_tag=True)"
      ],
      "execution_count": 12,
      "outputs": [
        {
          "output_type": "stream",
          "text": [
            "Training Accuracy is :  72.68189533645962\n",
            "Testing Accuracy is :  72.82906396004512\n"
          ],
          "name": "stdout"
        }
      ]
    },
    {
      "cell_type": "code",
      "metadata": {
        "id": "faW2H4MC9dCC"
      },
      "source": [
        "pickle.dump(modelkmeans, open(\"model_tfid_with_pos.pkl\", \"wb\"))"
      ],
      "execution_count": 13,
      "outputs": []
    }
  ]
}