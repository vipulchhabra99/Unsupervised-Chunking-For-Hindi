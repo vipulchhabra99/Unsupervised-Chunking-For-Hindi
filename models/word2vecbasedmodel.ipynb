{
  "nbformat": 4,
  "nbformat_minor": 0,
  "metadata": {
    "colab": {
      "name": "pretrained.ipynb",
      "provenance": [],
      "collapsed_sections": []
    },
    "kernelspec": {
      "display_name": "Python 3",
      "name": "python3"
    },
    "language_info": {
      "name": "python"
    }
  },
  "cells": [
    {
      "cell_type": "code",
      "metadata": {
        "id": "ym9ihxJb5FOk",
        "colab": {
          "base_uri": "https://localhost:8080/"
        },
        "outputId": "e1543f3c-29de-4b04-e0b2-848e922494c4"
      },
      "source": [
        "import pickle\n",
        "import numpy as np\n",
        "from google.colab import drive\n",
        "\n",
        "drive.mount('/content/drive')\n",
        "corpus = '/content/hindi-token-bis-pos-conll-treebank.txt'\n",
        "\n",
        "with open (\"./embeddings.pickle\", \"rb\") as f:\n",
        "  e = pickle.load(f)\n",
        "  embeddings = e['embeddings']\n",
        "  dic = e['dictionary']\n",
        "\n",
        "def preprocess_data(with_pos_tag = False):\n",
        "  total_states = []\n",
        "  f = open(corpus, \"r\",encoding = 'utf-8')\n",
        "  lines = f.readlines()\n",
        "  line = \"\"\n",
        "  for word in lines:\n",
        "    word = word.split('\\t')\n",
        "\n",
        "    if(len(word) != 1):\n",
        "      tag = word[1].strip()\n",
        "      word = word[0].strip()\n",
        "      \n",
        "      if(with_pos_tag == False):\n",
        "        total_states.append(word)\n",
        "      else:\n",
        "        total_states.append(word + \" \" + tag)\n",
        "\n",
        "  train_size = (len(total_states) * 80)//100\n",
        "\n",
        "  train_set = total_states[:train_size]\n",
        "  test_set = total_states[train_size:]\n",
        "\n",
        "  X_train = [embeddings[dic[word]] if word in dic.keys() else embeddings[dic['UNK']] for word in train_set]\n",
        "  X_test = [embeddings[dic[word]] if word in dic.keys() else embeddings[dic['UNK']] for word in test_set]\n",
        "\n",
        "  X_train = np.array(X_train)\n",
        "  X_test = np.array(X_test)\n",
        "  return train_set, test_set, X_train, X_test"
      ],
      "execution_count": null,
      "outputs": [
        {
          "output_type": "stream",
          "text": [
            "Drive already mounted at /content/drive; to attempt to forcibly remount, call drive.mount(\"/content/drive\", force_remount=True).\n"
          ],
          "name": "stdout"
        }
      ]
    },
    {
      "cell_type": "code",
      "metadata": {
        "id": "m69zuP-S7AiH"
      },
      "source": [
        "def measure_accuracy(train_set, test_set, Y_train, Y_test, with_pos_tag = True):\n",
        "  file2 = open('hin-token-chunk-conll-treebank.txt', 'r')\n",
        "  result_lines = file2.readlines()\n",
        "  tags = {}\n",
        "\n",
        "  for line in result_lines:\n",
        "    word = line.split('\\t')\n",
        "    if(len(word) != 1):\n",
        "      token = word[0].strip()\n",
        "      word = word[1].strip()\n",
        "      if(word[0] == 'B'):\n",
        "        tags[token] = 0\n",
        "\n",
        "      else:\n",
        "        tags[token] = 1\n",
        "\n",
        "  if(with_pos_tag == True):\n",
        "    for i in range(len(train_set)):\n",
        "      train_set[i] = train_set[i].split()[0]\n",
        "\n",
        "    for i in range(len(test_set)):\n",
        "      test_set[i] = test_set[i].split()[0]\n",
        "\n",
        "\n",
        "  total_correct = 0\n",
        "  for i in range(len(Y_train)):\n",
        "    if(Y_train[i] == tags[train_set[i]]):\n",
        "      total_correct += 1\n",
        "\n",
        "  print(\"Training Accuracy is : \", max(100 - (total_correct / len(train_set)*100), (total_correct / len(train_set)*100)))\n",
        "  train_accuracy = max(100 - (total_correct / len(train_set)*100), (total_correct / len(train_set)*100))\n",
        "  total_correct = 0\n",
        "  for i in range(len(test_set)):\n",
        "    if(Y_test[i] == tags[test_set[i]]):\n",
        "      total_correct += 1\n",
        "\n",
        "  print(\"Testing Accuracy is : \", max(100 - (total_correct / len(test_set)*100), (total_correct / len(test_set)*100)))\n",
        "  test_accuracy = max(100 - (total_correct / len(test_set)*100), (total_correct / len(test_set)*100))\n",
        "  return train_accuracy, test_accuracy\n"
      ],
      "execution_count": null,
      "outputs": []
    },
    {
      "cell_type": "code",
      "metadata": {
        "id": "vl98aAHe65-9"
      },
      "source": [
        "train_set, test_set, X_train, X_test = preprocess_data()"
      ],
      "execution_count": null,
      "outputs": []
    },
    {
      "cell_type": "code",
      "metadata": {
        "colab": {
          "base_uri": "https://localhost:8080/"
        },
        "id": "zD49yagi6637",
        "outputId": "41bdca99-a3dd-4675-c02e-833c7a575202"
      },
      "source": [
        "from sklearn.cluster import KMeans\n",
        "modelkmeans = KMeans(n_clusters=2, init='k-means++', n_init=10, n_jobs = -1)\n",
        "modelkmeans.fit(X_train)"
      ],
      "execution_count": null,
      "outputs": [
        {
          "output_type": "execute_result",
          "data": {
            "text/plain": [
              "KMeans(algorithm='auto', copy_x=True, init='k-means++', max_iter=300,\n",
              "       n_clusters=2, n_init=10, n_jobs=-1, precompute_distances='auto',\n",
              "       random_state=None, tol=0.0001, verbose=0)"
            ]
          },
          "metadata": {
            "tags": []
          },
          "execution_count": 59
        }
      ]
    },
    {
      "cell_type": "code",
      "metadata": {
        "id": "JpPtmto47PMe"
      },
      "source": [
        "Y_train = modelkmeans.predict(X_train)\n",
        "Y_test = modelkmeans.predict(X_test)"
      ],
      "execution_count": null,
      "outputs": []
    },
    {
      "cell_type": "code",
      "metadata": {
        "colab": {
          "base_uri": "https://localhost:8080/"
        },
        "id": "BP2sHJfL7QqL",
        "outputId": "b99b5d2e-b37b-4e1e-bdc2-c8fa83cabe30"
      },
      "source": [
        "measure_accuracy(train_set, test_set, Y_train, Y_test)"
      ],
      "execution_count": null,
      "outputs": [
        {
          "output_type": "stream",
          "text": [
            "Training Accuracy is :  50.29920308409332\n",
            "Testing Accuracy is :  51.145020598863034\n"
          ],
          "name": "stdout"
        },
        {
          "output_type": "execute_result",
          "data": {
            "text/plain": [
              "(50.29920308409332, 51.145020598863034)"
            ]
          },
          "metadata": {
            "tags": []
          },
          "execution_count": 61
        }
      ]
    },
    {
      "cell_type": "code",
      "metadata": {
        "colab": {
          "base_uri": "https://localhost:8080/"
        },
        "id": "5Bbb6zs1S7vd",
        "outputId": "55b058ba-959b-4fb5-a93b-364f015e926a"
      },
      "source": [
        "!pip install hmmlearn"
      ],
      "execution_count": null,
      "outputs": [
        {
          "output_type": "stream",
          "text": [
            "Collecting hmmlearn\n",
            "\u001b[?25l  Downloading https://files.pythonhosted.org/packages/4b/98/a2829aeb942b7146034d497afb3fc738a78a4fbd4797a039c19a94bb31f7/hmmlearn-0.2.5-cp37-cp37m-manylinux1_x86_64.whl (369kB)\n",
            "\r\u001b[K     |▉                               | 10kB 13.3MB/s eta 0:00:01\r\u001b[K     |█▊                              | 20kB 12.7MB/s eta 0:00:01\r\u001b[K     |██▋                             | 30kB 8.5MB/s eta 0:00:01\r\u001b[K     |███▌                            | 40kB 7.4MB/s eta 0:00:01\r\u001b[K     |████▍                           | 51kB 4.2MB/s eta 0:00:01\r\u001b[K     |█████▎                          | 61kB 4.7MB/s eta 0:00:01\r\u001b[K     |██████▏                         | 71kB 4.9MB/s eta 0:00:01\r\u001b[K     |███████                         | 81kB 5.1MB/s eta 0:00:01\r\u001b[K     |████████                        | 92kB 5.2MB/s eta 0:00:01\r\u001b[K     |████████▉                       | 102kB 5.5MB/s eta 0:00:01\r\u001b[K     |█████████▊                      | 112kB 5.5MB/s eta 0:00:01\r\u001b[K     |██████████▋                     | 122kB 5.5MB/s eta 0:00:01\r\u001b[K     |███████████▌                    | 133kB 5.5MB/s eta 0:00:01\r\u001b[K     |████████████▍                   | 143kB 5.5MB/s eta 0:00:01\r\u001b[K     |█████████████▎                  | 153kB 5.5MB/s eta 0:00:01\r\u001b[K     |██████████████▏                 | 163kB 5.5MB/s eta 0:00:01\r\u001b[K     |███████████████                 | 174kB 5.5MB/s eta 0:00:01\r\u001b[K     |████████████████                | 184kB 5.5MB/s eta 0:00:01\r\u001b[K     |████████████████▉               | 194kB 5.5MB/s eta 0:00:01\r\u001b[K     |█████████████████▊              | 204kB 5.5MB/s eta 0:00:01\r\u001b[K     |██████████████████▋             | 215kB 5.5MB/s eta 0:00:01\r\u001b[K     |███████████████████▌            | 225kB 5.5MB/s eta 0:00:01\r\u001b[K     |████████████████████▍           | 235kB 5.5MB/s eta 0:00:01\r\u001b[K     |█████████████████████▎          | 245kB 5.5MB/s eta 0:00:01\r\u001b[K     |██████████████████████▏         | 256kB 5.5MB/s eta 0:00:01\r\u001b[K     |███████████████████████         | 266kB 5.5MB/s eta 0:00:01\r\u001b[K     |████████████████████████        | 276kB 5.5MB/s eta 0:00:01\r\u001b[K     |████████████████████████▉       | 286kB 5.5MB/s eta 0:00:01\r\u001b[K     |█████████████████████████▊      | 296kB 5.5MB/s eta 0:00:01\r\u001b[K     |██████████████████████████▋     | 307kB 5.5MB/s eta 0:00:01\r\u001b[K     |███████████████████████████▌    | 317kB 5.5MB/s eta 0:00:01\r\u001b[K     |████████████████████████████▍   | 327kB 5.5MB/s eta 0:00:01\r\u001b[K     |█████████████████████████████▎  | 337kB 5.5MB/s eta 0:00:01\r\u001b[K     |██████████████████████████████▏ | 348kB 5.5MB/s eta 0:00:01\r\u001b[K     |███████████████████████████████ | 358kB 5.5MB/s eta 0:00:01\r\u001b[K     |████████████████████████████████| 368kB 5.5MB/s eta 0:00:01\r\u001b[K     |████████████████████████████████| 378kB 5.5MB/s \n",
            "\u001b[?25hRequirement already satisfied: scikit-learn>=0.16 in /usr/local/lib/python3.7/dist-packages (from hmmlearn) (0.22.2.post1)\n",
            "Requirement already satisfied: numpy>=1.10 in /usr/local/lib/python3.7/dist-packages (from hmmlearn) (1.19.5)\n",
            "Requirement already satisfied: scipy>=0.19 in /usr/local/lib/python3.7/dist-packages (from hmmlearn) (1.4.1)\n",
            "Requirement already satisfied: joblib>=0.11 in /usr/local/lib/python3.7/dist-packages (from scikit-learn>=0.16->hmmlearn) (1.0.1)\n",
            "Installing collected packages: hmmlearn\n",
            "Successfully installed hmmlearn-0.2.5\n"
          ],
          "name": "stdout"
        }
      ]
    },
    {
      "cell_type": "code",
      "metadata": {
        "colab": {
          "base_uri": "https://localhost:8080/"
        },
        "id": "C8Ecfu8PVXFC",
        "outputId": "0f1519b1-2e34-4061-dd7d-62c51aba60b3"
      },
      "source": [
        "from hmmlearn import hmm\n",
        "\n",
        "model = hmm.GaussianHMM(n_components=2)\n",
        "model.fit(X_train)"
      ],
      "execution_count": null,
      "outputs": [
        {
          "output_type": "execute_result",
          "data": {
            "text/plain": [
              "GaussianHMM(algorithm='viterbi', covariance_type='diag', covars_prior=0.01,\n",
              "            covars_weight=1, init_params='stmc', means_prior=0, means_weight=0,\n",
              "            min_covar=0.001, n_components=2, n_iter=10, params='stmc',\n",
              "            random_state=None, startprob_prior=1.0, tol=0.01,\n",
              "            transmat_prior=1.0, verbose=False)"
            ]
          },
          "metadata": {
            "tags": []
          },
          "execution_count": 63
        }
      ]
    },
    {
      "cell_type": "code",
      "metadata": {
        "id": "r5nGnYovVaF-"
      },
      "source": [
        "Y_train = model.predict(X_train)\n",
        "Y_test = model.predict(X_test)"
      ],
      "execution_count": null,
      "outputs": []
    },
    {
      "cell_type": "code",
      "metadata": {
        "colab": {
          "base_uri": "https://localhost:8080/"
        },
        "id": "6_0mahaJVcuO",
        "outputId": "c0a1c529-82c6-4eba-b843-6fbe3b4d9e68"
      },
      "source": [
        "measure_accuracy(train_set, test_set, Y_train, Y_test)"
      ],
      "execution_count": null,
      "outputs": [
        {
          "output_type": "stream",
          "text": [
            "Training Accuracy is :  50.29920308409333\n",
            "Testing Accuracy is :  51.145020598863034\n"
          ],
          "name": "stdout"
        },
        {
          "output_type": "execute_result",
          "data": {
            "text/plain": [
              "(50.29920308409333, 51.145020598863034)"
            ]
          },
          "metadata": {
            "tags": []
          },
          "execution_count": 65
        }
      ]
    },
    {
      "cell_type": "code",
      "metadata": {
        "id": "A8Vsg8pAVw7V"
      },
      "source": [
        "import pickle\n",
        "pickle.dump(modelkmeans, open(\"model_embedding_without_pos_kmeans.pkl\", \"wb\"))\n",
        "pickle.dump(model, open(\"model_embedding_without_pos_hmm.pkl\", \"wb\"))"
      ],
      "execution_count": null,
      "outputs": []
    },
    {
      "cell_type": "code",
      "metadata": {
        "colab": {
          "base_uri": "https://localhost:8080/",
          "height": 1000
        },
        "id": "8FSde1PM8nr_",
        "outputId": "39adbc82-05e5-4921-cbee-04fb74289fb8"
      },
      "source": [
        "from sklearn.decomposition import PCA\n",
        "\n",
        "train_accuracy = []\n",
        "test_accuracy = []\n",
        "for components in range(1, 129):\n",
        "  trying_vector = X_train.copy()\n",
        "  pca = PCA(n_components=components)\n",
        "  pca.fit(trying_vector)\n",
        "  trying_vector = pca.transform(trying_vector)\n",
        "  modelkmeans = KMeans(n_clusters=2, init='k-means++', n_init=10, n_jobs = -1)\n",
        "  modelkmeans.fit(trying_vector)\n",
        "  train_results = modelkmeans.predict(trying_vector)\n",
        "  testing_vector = X_test.copy()\n",
        "  testing_vector = pca.transform(testing_vector)\n",
        "  test_results = modelkmeans.predict(testing_vector)\n",
        "  train_acc, test_acc = measure_accuracy(train_set, test_set, train_results, test_results)\n",
        "  train_accuracy.append(train_acc)\n",
        "  test_accuracy.append(test_acc)\n",
        "  if(components % 50 == 0):\n",
        "    print(components)"
      ],
      "execution_count": null,
      "outputs": [
        {
          "output_type": "stream",
          "text": [
            "Training Accuracy is :  50.29920308409333\n",
            "Testing Accuracy is :  51.145020598863034\n",
            "Training Accuracy is :  50.29920308409333\n",
            "Testing Accuracy is :  51.145020598863034\n",
            "Training Accuracy is :  50.29920308409333\n",
            "Testing Accuracy is :  51.145020598863034\n",
            "Training Accuracy is :  50.29920308409333\n",
            "Testing Accuracy is :  51.145020598863034\n",
            "Training Accuracy is :  50.29920308409333\n",
            "Testing Accuracy is :  51.145020598863034\n",
            "Training Accuracy is :  50.29920308409333\n",
            "Testing Accuracy is :  51.145020598863034\n",
            "Training Accuracy is :  50.29920308409333\n",
            "Testing Accuracy is :  51.145020598863034\n",
            "Training Accuracy is :  50.29920308409333\n",
            "Testing Accuracy is :  51.145020598863034\n",
            "Training Accuracy is :  50.29920308409333\n",
            "Testing Accuracy is :  51.145020598863034\n",
            "Training Accuracy is :  50.29920308409332\n",
            "Testing Accuracy is :  51.145020598863034\n",
            "Training Accuracy is :  50.29920308409333\n",
            "Testing Accuracy is :  51.145020598863034\n",
            "Training Accuracy is :  50.29920308409332\n",
            "Testing Accuracy is :  51.145020598863034\n",
            "Training Accuracy is :  50.29920308409333\n",
            "Testing Accuracy is :  51.145020598863034\n",
            "Training Accuracy is :  50.29920308409332\n",
            "Testing Accuracy is :  51.145020598863034\n",
            "Training Accuracy is :  50.29920308409332\n",
            "Testing Accuracy is :  51.145020598863034\n",
            "Training Accuracy is :  50.29920308409333\n",
            "Testing Accuracy is :  51.145020598863034\n",
            "Training Accuracy is :  50.29920308409333\n",
            "Testing Accuracy is :  51.145020598863034\n",
            "Training Accuracy is :  50.29920308409332\n",
            "Testing Accuracy is :  51.145020598863034\n",
            "Training Accuracy is :  50.29920308409332\n",
            "Testing Accuracy is :  51.145020598863034\n",
            "Training Accuracy is :  50.29920308409332\n",
            "Testing Accuracy is :  51.145020598863034\n",
            "Training Accuracy is :  50.29920308409332\n",
            "Testing Accuracy is :  51.145020598863034\n",
            "Training Accuracy is :  50.29920308409332\n",
            "Testing Accuracy is :  51.145020598863034\n",
            "Training Accuracy is :  50.29920308409332\n",
            "Testing Accuracy is :  51.145020598863034\n",
            "Training Accuracy is :  50.29920308409332\n",
            "Testing Accuracy is :  51.145020598863034\n",
            "Training Accuracy is :  50.29920308409333\n",
            "Testing Accuracy is :  51.145020598863034\n",
            "Training Accuracy is :  50.29920308409333\n",
            "Testing Accuracy is :  51.145020598863034\n",
            "Training Accuracy is :  50.29920308409332\n",
            "Testing Accuracy is :  51.145020598863034\n",
            "Training Accuracy is :  50.29920308409332\n",
            "Testing Accuracy is :  51.145020598863034\n",
            "Training Accuracy is :  50.29920308409333\n",
            "Testing Accuracy is :  51.145020598863034\n",
            "Training Accuracy is :  50.29920308409333\n",
            "Testing Accuracy is :  51.145020598863034\n",
            "Training Accuracy is :  50.29920308409333\n",
            "Testing Accuracy is :  51.145020598863034\n",
            "Training Accuracy is :  50.29920308409333\n",
            "Testing Accuracy is :  51.145020598863034\n",
            "Training Accuracy is :  50.29920308409333\n",
            "Testing Accuracy is :  51.145020598863034\n",
            "Training Accuracy is :  50.29920308409332\n",
            "Testing Accuracy is :  51.145020598863034\n",
            "Training Accuracy is :  50.29920308409332\n",
            "Testing Accuracy is :  51.145020598863034\n",
            "Training Accuracy is :  50.29920308409333\n",
            "Testing Accuracy is :  51.145020598863034\n",
            "Training Accuracy is :  50.29920308409332\n",
            "Testing Accuracy is :  51.145020598863034\n",
            "Training Accuracy is :  50.29920308409333\n",
            "Testing Accuracy is :  51.145020598863034\n",
            "Training Accuracy is :  50.29920308409333\n",
            "Testing Accuracy is :  51.145020598863034\n",
            "Training Accuracy is :  50.29920308409333\n",
            "Testing Accuracy is :  51.145020598863034\n",
            "Training Accuracy is :  50.29920308409332\n",
            "Testing Accuracy is :  51.145020598863034\n",
            "Training Accuracy is :  50.29920308409332\n",
            "Testing Accuracy is :  51.145020598863034\n",
            "Training Accuracy is :  50.29920308409333\n",
            "Testing Accuracy is :  51.145020598863034\n",
            "Training Accuracy is :  50.29920308409332\n",
            "Testing Accuracy is :  51.145020598863034\n",
            "Training Accuracy is :  50.29920308409332\n",
            "Testing Accuracy is :  51.145020598863034\n",
            "Training Accuracy is :  50.29920308409332\n",
            "Testing Accuracy is :  51.145020598863034\n",
            "Training Accuracy is :  50.29920308409333\n",
            "Testing Accuracy is :  51.145020598863034\n",
            "Training Accuracy is :  50.29920308409332\n",
            "Testing Accuracy is :  51.145020598863034\n",
            "Training Accuracy is :  50.29920308409332\n",
            "Testing Accuracy is :  51.145020598863034\n",
            "Training Accuracy is :  50.29920308409333\n",
            "Testing Accuracy is :  51.145020598863034\n",
            "50\n",
            "Training Accuracy is :  50.29920308409333\n",
            "Testing Accuracy is :  51.145020598863034\n",
            "Training Accuracy is :  50.29920308409332\n",
            "Testing Accuracy is :  51.145020598863034\n",
            "Training Accuracy is :  50.29920308409333\n",
            "Testing Accuracy is :  51.145020598863034\n",
            "Training Accuracy is :  50.29920308409333\n",
            "Testing Accuracy is :  51.145020598863034\n",
            "Training Accuracy is :  50.29920308409332\n",
            "Testing Accuracy is :  51.145020598863034\n",
            "Training Accuracy is :  50.29920308409333\n",
            "Testing Accuracy is :  51.145020598863034\n",
            "Training Accuracy is :  50.29920308409333\n",
            "Testing Accuracy is :  51.145020598863034\n",
            "Training Accuracy is :  50.29920308409333\n",
            "Testing Accuracy is :  51.145020598863034\n",
            "Training Accuracy is :  50.29920308409332\n",
            "Testing Accuracy is :  51.145020598863034\n",
            "Training Accuracy is :  50.29920308409333\n",
            "Testing Accuracy is :  51.145020598863034\n",
            "Training Accuracy is :  50.29920308409333\n",
            "Testing Accuracy is :  51.145020598863034\n",
            "Training Accuracy is :  50.29920308409333\n",
            "Testing Accuracy is :  51.145020598863034\n",
            "Training Accuracy is :  50.29920308409333\n",
            "Testing Accuracy is :  51.145020598863034\n",
            "Training Accuracy is :  50.29920308409332\n",
            "Testing Accuracy is :  51.145020598863034\n",
            "Training Accuracy is :  50.29920308409332\n",
            "Testing Accuracy is :  51.145020598863034\n",
            "Training Accuracy is :  50.29920308409332\n",
            "Testing Accuracy is :  51.145020598863034\n",
            "Training Accuracy is :  50.29920308409333\n",
            "Testing Accuracy is :  51.145020598863034\n",
            "Training Accuracy is :  50.29920308409332\n",
            "Testing Accuracy is :  51.145020598863034\n",
            "Training Accuracy is :  50.29920308409332\n",
            "Testing Accuracy is :  51.145020598863034\n",
            "Training Accuracy is :  50.29920308409332\n",
            "Testing Accuracy is :  51.145020598863034\n",
            "Training Accuracy is :  50.29920308409333\n",
            "Testing Accuracy is :  51.145020598863034\n",
            "Training Accuracy is :  50.29920308409333\n",
            "Testing Accuracy is :  51.145020598863034\n",
            "Training Accuracy is :  50.29920308409332\n",
            "Testing Accuracy is :  51.145020598863034\n",
            "Training Accuracy is :  50.29920308409333\n",
            "Testing Accuracy is :  51.145020598863034\n",
            "Training Accuracy is :  50.29920308409332\n",
            "Testing Accuracy is :  51.145020598863034\n",
            "Training Accuracy is :  50.29920308409333\n",
            "Testing Accuracy is :  51.145020598863034\n",
            "Training Accuracy is :  50.29920308409332\n",
            "Testing Accuracy is :  51.145020598863034\n",
            "Training Accuracy is :  50.29920308409332\n",
            "Testing Accuracy is :  51.145020598863034\n",
            "Training Accuracy is :  50.29920308409333\n",
            "Testing Accuracy is :  51.145020598863034\n",
            "Training Accuracy is :  50.29920308409332\n",
            "Testing Accuracy is :  51.145020598863034\n",
            "Training Accuracy is :  50.29920308409333\n",
            "Testing Accuracy is :  51.145020598863034\n",
            "Training Accuracy is :  50.29920308409332\n",
            "Testing Accuracy is :  51.145020598863034\n",
            "Training Accuracy is :  50.29920308409332\n",
            "Testing Accuracy is :  51.145020598863034\n",
            "Training Accuracy is :  50.29920308409332\n",
            "Testing Accuracy is :  51.145020598863034\n",
            "Training Accuracy is :  50.29920308409332\n",
            "Testing Accuracy is :  51.145020598863034\n",
            "Training Accuracy is :  50.29920308409332\n",
            "Testing Accuracy is :  51.145020598863034\n",
            "Training Accuracy is :  50.29920308409333\n",
            "Testing Accuracy is :  51.145020598863034\n",
            "Training Accuracy is :  50.29920308409332\n",
            "Testing Accuracy is :  51.145020598863034\n",
            "Training Accuracy is :  50.29920308409333\n",
            "Testing Accuracy is :  51.145020598863034\n",
            "Training Accuracy is :  50.29920308409332\n",
            "Testing Accuracy is :  51.145020598863034\n",
            "Training Accuracy is :  50.29920308409333\n",
            "Testing Accuracy is :  51.145020598863034\n",
            "Training Accuracy is :  50.29920308409332\n",
            "Testing Accuracy is :  51.145020598863034\n",
            "Training Accuracy is :  50.29920308409333\n",
            "Testing Accuracy is :  51.145020598863034\n",
            "Training Accuracy is :  50.29920308409333\n",
            "Testing Accuracy is :  51.145020598863034\n",
            "Training Accuracy is :  50.29920308409332\n",
            "Testing Accuracy is :  51.145020598863034\n",
            "Training Accuracy is :  50.29920308409333\n",
            "Testing Accuracy is :  51.145020598863034\n",
            "Training Accuracy is :  50.29920308409333\n",
            "Testing Accuracy is :  51.145020598863034\n",
            "Training Accuracy is :  50.29920308409332\n",
            "Testing Accuracy is :  51.145020598863034\n",
            "Training Accuracy is :  50.29920308409332\n",
            "Testing Accuracy is :  51.145020598863034\n",
            "Training Accuracy is :  50.29920308409332\n",
            "Testing Accuracy is :  51.145020598863034\n",
            "100\n",
            "Training Accuracy is :  50.29920308409333\n",
            "Testing Accuracy is :  51.145020598863034\n",
            "Training Accuracy is :  50.29920308409333\n",
            "Testing Accuracy is :  51.145020598863034\n",
            "Training Accuracy is :  50.29920308409333\n",
            "Testing Accuracy is :  51.145020598863034\n",
            "Training Accuracy is :  50.29920308409333\n",
            "Testing Accuracy is :  51.145020598863034\n",
            "Training Accuracy is :  50.29920308409332\n",
            "Testing Accuracy is :  51.145020598863034\n",
            "Training Accuracy is :  50.29920308409332\n",
            "Testing Accuracy is :  51.145020598863034\n",
            "Training Accuracy is :  50.29920308409333\n",
            "Testing Accuracy is :  51.145020598863034\n",
            "Training Accuracy is :  50.29920308409333\n",
            "Testing Accuracy is :  51.145020598863034\n",
            "Training Accuracy is :  50.29920308409333\n",
            "Testing Accuracy is :  51.145020598863034\n",
            "Training Accuracy is :  50.29920308409333\n",
            "Testing Accuracy is :  51.145020598863034\n",
            "Training Accuracy is :  50.29920308409333\n",
            "Testing Accuracy is :  51.145020598863034\n",
            "Training Accuracy is :  50.29920308409333\n",
            "Testing Accuracy is :  51.145020598863034\n",
            "Training Accuracy is :  50.29920308409333\n",
            "Testing Accuracy is :  51.145020598863034\n",
            "Training Accuracy is :  50.29920308409333\n",
            "Testing Accuracy is :  51.145020598863034\n",
            "Training Accuracy is :  50.29920308409333\n",
            "Testing Accuracy is :  51.145020598863034\n",
            "Training Accuracy is :  50.29920308409333\n",
            "Testing Accuracy is :  51.145020598863034\n",
            "Training Accuracy is :  50.29920308409333\n",
            "Testing Accuracy is :  51.145020598863034\n",
            "Training Accuracy is :  50.29920308409333\n",
            "Testing Accuracy is :  51.145020598863034\n",
            "Training Accuracy is :  50.29920308409332\n",
            "Testing Accuracy is :  51.145020598863034\n",
            "Training Accuracy is :  50.29920308409332\n",
            "Testing Accuracy is :  51.145020598863034\n",
            "Training Accuracy is :  50.29920308409333\n",
            "Testing Accuracy is :  51.145020598863034\n",
            "Training Accuracy is :  50.29920308409333\n",
            "Testing Accuracy is :  51.145020598863034\n",
            "Training Accuracy is :  50.29920308409333\n",
            "Testing Accuracy is :  51.145020598863034\n",
            "Training Accuracy is :  50.29920308409332\n",
            "Testing Accuracy is :  51.145020598863034\n",
            "Training Accuracy is :  50.29920308409332\n",
            "Testing Accuracy is :  51.145020598863034\n",
            "Training Accuracy is :  50.29920308409332\n",
            "Testing Accuracy is :  51.145020598863034\n",
            "Training Accuracy is :  50.29920308409333\n",
            "Testing Accuracy is :  51.145020598863034\n",
            "Training Accuracy is :  50.29920308409333\n",
            "Testing Accuracy is :  51.145020598863034\n"
          ],
          "name": "stdout"
        },
        {
          "output_type": "error",
          "ename": "ValueError",
          "evalue": "ignored",
          "traceback": [
            "\u001b[0;31m---------------------------------------------------------------------------\u001b[0m",
            "\u001b[0;31mValueError\u001b[0m                                Traceback (most recent call last)",
            "\u001b[0;32m<ipython-input-67-d857064d83bc>\u001b[0m in \u001b[0;36m<module>\u001b[0;34m()\u001b[0m\n\u001b[1;32m      6\u001b[0m   \u001b[0mtrying_vector\u001b[0m \u001b[0;34m=\u001b[0m \u001b[0mX_train\u001b[0m\u001b[0;34m.\u001b[0m\u001b[0mcopy\u001b[0m\u001b[0;34m(\u001b[0m\u001b[0;34m)\u001b[0m\u001b[0;34m\u001b[0m\u001b[0;34m\u001b[0m\u001b[0m\n\u001b[1;32m      7\u001b[0m   \u001b[0mpca\u001b[0m \u001b[0;34m=\u001b[0m \u001b[0mPCA\u001b[0m\u001b[0;34m(\u001b[0m\u001b[0mn_components\u001b[0m\u001b[0;34m=\u001b[0m\u001b[0mcomponents\u001b[0m\u001b[0;34m)\u001b[0m\u001b[0;34m\u001b[0m\u001b[0;34m\u001b[0m\u001b[0m\n\u001b[0;32m----> 8\u001b[0;31m   \u001b[0mpca\u001b[0m\u001b[0;34m.\u001b[0m\u001b[0mfit\u001b[0m\u001b[0;34m(\u001b[0m\u001b[0mtrying_vector\u001b[0m\u001b[0;34m)\u001b[0m\u001b[0;34m\u001b[0m\u001b[0;34m\u001b[0m\u001b[0m\n\u001b[0m\u001b[1;32m      9\u001b[0m   \u001b[0mtrying_vector\u001b[0m \u001b[0;34m=\u001b[0m \u001b[0mpca\u001b[0m\u001b[0;34m.\u001b[0m\u001b[0mtransform\u001b[0m\u001b[0;34m(\u001b[0m\u001b[0mtrying_vector\u001b[0m\u001b[0;34m)\u001b[0m\u001b[0;34m\u001b[0m\u001b[0;34m\u001b[0m\u001b[0m\n\u001b[1;32m     10\u001b[0m   \u001b[0mmodelkmeans\u001b[0m \u001b[0;34m=\u001b[0m \u001b[0mKMeans\u001b[0m\u001b[0;34m(\u001b[0m\u001b[0mn_clusters\u001b[0m\u001b[0;34m=\u001b[0m\u001b[0;36m2\u001b[0m\u001b[0;34m,\u001b[0m \u001b[0minit\u001b[0m\u001b[0;34m=\u001b[0m\u001b[0;34m'k-means++'\u001b[0m\u001b[0;34m,\u001b[0m \u001b[0mn_init\u001b[0m\u001b[0;34m=\u001b[0m\u001b[0;36m10\u001b[0m\u001b[0;34m,\u001b[0m \u001b[0mn_jobs\u001b[0m \u001b[0;34m=\u001b[0m \u001b[0;34m-\u001b[0m\u001b[0;36m1\u001b[0m\u001b[0;34m)\u001b[0m\u001b[0;34m\u001b[0m\u001b[0;34m\u001b[0m\u001b[0m\n",
            "\u001b[0;32m/usr/local/lib/python3.7/dist-packages/sklearn/decomposition/_pca.py\u001b[0m in \u001b[0;36mfit\u001b[0;34m(self, X, y)\u001b[0m\n\u001b[1;32m    342\u001b[0m             \u001b[0mReturns\u001b[0m \u001b[0mthe\u001b[0m \u001b[0minstance\u001b[0m \u001b[0mitself\u001b[0m\u001b[0;34m.\u001b[0m\u001b[0;34m\u001b[0m\u001b[0;34m\u001b[0m\u001b[0m\n\u001b[1;32m    343\u001b[0m         \"\"\"\n\u001b[0;32m--> 344\u001b[0;31m         \u001b[0mself\u001b[0m\u001b[0;34m.\u001b[0m\u001b[0m_fit\u001b[0m\u001b[0;34m(\u001b[0m\u001b[0mX\u001b[0m\u001b[0;34m)\u001b[0m\u001b[0;34m\u001b[0m\u001b[0;34m\u001b[0m\u001b[0m\n\u001b[0m\u001b[1;32m    345\u001b[0m         \u001b[0;32mreturn\u001b[0m \u001b[0mself\u001b[0m\u001b[0;34m\u001b[0m\u001b[0;34m\u001b[0m\u001b[0m\n\u001b[1;32m    346\u001b[0m \u001b[0;34m\u001b[0m\u001b[0m\n",
            "\u001b[0;32m/usr/local/lib/python3.7/dist-packages/sklearn/decomposition/_pca.py\u001b[0m in \u001b[0;36m_fit\u001b[0;34m(self, X)\u001b[0m\n\u001b[1;32m    414\u001b[0m         \u001b[0;31m# Call different fits for either full or truncated SVD\u001b[0m\u001b[0;34m\u001b[0m\u001b[0;34m\u001b[0m\u001b[0;34m\u001b[0m\u001b[0m\n\u001b[1;32m    415\u001b[0m         \u001b[0;32mif\u001b[0m \u001b[0mself\u001b[0m\u001b[0;34m.\u001b[0m\u001b[0m_fit_svd_solver\u001b[0m \u001b[0;34m==\u001b[0m \u001b[0;34m'full'\u001b[0m\u001b[0;34m:\u001b[0m\u001b[0;34m\u001b[0m\u001b[0;34m\u001b[0m\u001b[0m\n\u001b[0;32m--> 416\u001b[0;31m             \u001b[0;32mreturn\u001b[0m \u001b[0mself\u001b[0m\u001b[0;34m.\u001b[0m\u001b[0m_fit_full\u001b[0m\u001b[0;34m(\u001b[0m\u001b[0mX\u001b[0m\u001b[0;34m,\u001b[0m \u001b[0mn_components\u001b[0m\u001b[0;34m)\u001b[0m\u001b[0;34m\u001b[0m\u001b[0;34m\u001b[0m\u001b[0m\n\u001b[0m\u001b[1;32m    417\u001b[0m         \u001b[0;32melif\u001b[0m \u001b[0mself\u001b[0m\u001b[0;34m.\u001b[0m\u001b[0m_fit_svd_solver\u001b[0m \u001b[0;32min\u001b[0m \u001b[0;34m[\u001b[0m\u001b[0;34m'arpack'\u001b[0m\u001b[0;34m,\u001b[0m \u001b[0;34m'randomized'\u001b[0m\u001b[0;34m]\u001b[0m\u001b[0;34m:\u001b[0m\u001b[0;34m\u001b[0m\u001b[0;34m\u001b[0m\u001b[0m\n\u001b[1;32m    418\u001b[0m             \u001b[0;32mreturn\u001b[0m \u001b[0mself\u001b[0m\u001b[0;34m.\u001b[0m\u001b[0m_fit_truncated\u001b[0m\u001b[0;34m(\u001b[0m\u001b[0mX\u001b[0m\u001b[0;34m,\u001b[0m \u001b[0mn_components\u001b[0m\u001b[0;34m,\u001b[0m \u001b[0mself\u001b[0m\u001b[0;34m.\u001b[0m\u001b[0m_fit_svd_solver\u001b[0m\u001b[0;34m)\u001b[0m\u001b[0;34m\u001b[0m\u001b[0;34m\u001b[0m\u001b[0m\n",
            "\u001b[0;32m/usr/local/lib/python3.7/dist-packages/sklearn/decomposition/_pca.py\u001b[0m in \u001b[0;36m_fit_full\u001b[0;34m(self, X, n_components)\u001b[0m\n\u001b[1;32m    433\u001b[0m                              \u001b[0;34m\"min(n_samples, n_features)=%r with \"\u001b[0m\u001b[0;34m\u001b[0m\u001b[0;34m\u001b[0m\u001b[0m\n\u001b[1;32m    434\u001b[0m                              \u001b[0;34m\"svd_solver='full'\"\u001b[0m\u001b[0;34m\u001b[0m\u001b[0;34m\u001b[0m\u001b[0m\n\u001b[0;32m--> 435\u001b[0;31m                              % (n_components, min(n_samples, n_features)))\n\u001b[0m\u001b[1;32m    436\u001b[0m         \u001b[0;32melif\u001b[0m \u001b[0mn_components\u001b[0m \u001b[0;34m>=\u001b[0m \u001b[0;36m1\u001b[0m\u001b[0;34m:\u001b[0m\u001b[0;34m\u001b[0m\u001b[0;34m\u001b[0m\u001b[0m\n\u001b[1;32m    437\u001b[0m             \u001b[0;32mif\u001b[0m \u001b[0;32mnot\u001b[0m \u001b[0misinstance\u001b[0m\u001b[0;34m(\u001b[0m\u001b[0mn_components\u001b[0m\u001b[0;34m,\u001b[0m \u001b[0mnumbers\u001b[0m\u001b[0;34m.\u001b[0m\u001b[0mIntegral\u001b[0m\u001b[0;34m)\u001b[0m\u001b[0;34m:\u001b[0m\u001b[0;34m\u001b[0m\u001b[0;34m\u001b[0m\u001b[0m\n",
            "\u001b[0;31mValueError\u001b[0m: n_components=129 must be between 0 and min(n_samples, n_features)=128 with svd_solver='full'"
          ]
        }
      ]
    },
    {
      "cell_type": "code",
      "metadata": {
        "id": "iuNKSYV5-s2t"
      },
      "source": [
        "import matplotlib.pyplot as plt\n",
        "\n",
        "x = [i for i in range(1, 129)]\n",
        "y = train_accuracy\n",
        "y2 = test_accuracy\n",
        "plt.plot(x, y, label = \"train-accuracy\")\n",
        "plt.plot(x, y2, label = \"test-accuracy\")\n",
        "\n",
        "plt.xlabel('Number of Components')\n",
        "plt.ylabel('Accuracy')\n",
        "plt.title('PCA Prediction!')\n",
        "\n",
        "plt.legend()\n",
        "plt.show()\n",
        "plt.savefig('Pretrained_embedding_kmean_without_pos.png')"
      ],
      "execution_count": null,
      "outputs": []
    },
    {
      "cell_type": "code",
      "metadata": {
        "id": "evnsqE8FVmE-",
        "colab": {
          "base_uri": "https://localhost:8080/",
          "height": 1000
        },
        "outputId": "f655b4cd-0d1e-4a97-99cb-32f1947b7c50"
      },
      "source": [
        "\n",
        "train_accuracy = []\n",
        "test_accuracy = []\n",
        "for components in range(1, 200):\n",
        "  trying_vector = X_train.copy()\n",
        "  pca = PCA(n_components=components)\n",
        "  pca.fit(trying_vector)\n",
        "  trying_vector = pca.transform(trying_vector)\n",
        "  modelkmeans = hmm.GaussianHMM(n_components=2)\n",
        "  modelkmeans.fit(trying_vector)\n",
        "  train_results = modelkmeans.predict(trying_vector)\n",
        "  testing_vector = X_test.copy()\n",
        "  testing_vector = pca.transform(testing_vector)\n",
        "  test_results = modelkmeans.predict(testing_vector)\n",
        "  train_acc, test_acc = measure_accuracy(train_set, test_set, train_results, test_results)\n",
        "  train_accuracy.append(train_acc)\n",
        "  test_accuracy.append(test_acc)\n",
        "  if(components % 50 == 0):\n",
        "    print(components)"
      ],
      "execution_count": null,
      "outputs": [
        {
          "output_type": "stream",
          "text": [
            "Training Accuracy is :  50.29920308409333\n",
            "Testing Accuracy is :  51.145020598863034\n",
            "Training Accuracy is :  50.29920308409333\n",
            "Testing Accuracy is :  51.145020598863034\n",
            "Training Accuracy is :  50.29920308409333\n",
            "Testing Accuracy is :  51.145020598863034\n",
            "Training Accuracy is :  50.29920308409333\n",
            "Testing Accuracy is :  51.145020598863034\n",
            "Training Accuracy is :  50.29920308409333\n",
            "Testing Accuracy is :  51.145020598863034\n",
            "Training Accuracy is :  50.29920308409332\n",
            "Testing Accuracy is :  51.145020598863034\n",
            "Training Accuracy is :  50.29920308409333\n",
            "Testing Accuracy is :  51.145020598863034\n",
            "Training Accuracy is :  50.29920308409333\n",
            "Testing Accuracy is :  51.145020598863034\n",
            "Training Accuracy is :  50.29920308409333\n",
            "Testing Accuracy is :  51.145020598863034\n",
            "Training Accuracy is :  50.29920308409333\n",
            "Testing Accuracy is :  51.145020598863034\n",
            "Training Accuracy is :  50.29920308409333\n",
            "Testing Accuracy is :  51.145020598863034\n",
            "Training Accuracy is :  50.29920308409333\n",
            "Testing Accuracy is :  51.145020598863034\n",
            "Training Accuracy is :  50.29920308409333\n",
            "Testing Accuracy is :  51.145020598863034\n",
            "Training Accuracy is :  50.29920308409333\n",
            "Testing Accuracy is :  51.145020598863034\n",
            "Training Accuracy is :  50.29920308409332\n",
            "Testing Accuracy is :  51.145020598863034\n",
            "Training Accuracy is :  50.29920308409333\n",
            "Testing Accuracy is :  51.145020598863034\n",
            "Training Accuracy is :  50.29920308409333\n",
            "Testing Accuracy is :  51.145020598863034\n",
            "Training Accuracy is :  50.29920308409333\n",
            "Testing Accuracy is :  51.145020598863034\n",
            "Training Accuracy is :  50.29920308409332\n",
            "Testing Accuracy is :  51.145020598863034\n",
            "Training Accuracy is :  50.29920308409332\n",
            "Testing Accuracy is :  51.145020598863034\n",
            "Training Accuracy is :  50.29920308409333\n",
            "Testing Accuracy is :  51.145020598863034\n",
            "Training Accuracy is :  50.29920308409333\n",
            "Testing Accuracy is :  51.145020598863034\n",
            "Training Accuracy is :  50.29920308409333\n",
            "Testing Accuracy is :  51.145020598863034\n",
            "Training Accuracy is :  50.29920308409333\n",
            "Testing Accuracy is :  51.145020598863034\n",
            "Training Accuracy is :  50.29920308409333\n",
            "Testing Accuracy is :  51.145020598863034\n",
            "Training Accuracy is :  50.29920308409333\n",
            "Testing Accuracy is :  51.145020598863034\n",
            "Training Accuracy is :  50.29920308409332\n",
            "Testing Accuracy is :  51.145020598863034\n",
            "Training Accuracy is :  50.29920308409332\n",
            "Testing Accuracy is :  51.145020598863034\n",
            "Training Accuracy is :  50.29920308409332\n",
            "Testing Accuracy is :  51.145020598863034\n",
            "Training Accuracy is :  50.29920308409333\n",
            "Testing Accuracy is :  51.145020598863034\n",
            "Training Accuracy is :  50.29920308409333\n",
            "Testing Accuracy is :  51.145020598863034\n",
            "Training Accuracy is :  50.29920308409333\n",
            "Testing Accuracy is :  51.145020598863034\n",
            "Training Accuracy is :  50.29920308409332\n",
            "Testing Accuracy is :  51.145020598863034\n",
            "Training Accuracy is :  50.29920308409333\n",
            "Testing Accuracy is :  51.145020598863034\n",
            "Training Accuracy is :  50.29920308409333\n",
            "Testing Accuracy is :  51.145020598863034\n",
            "Training Accuracy is :  50.29920308409333\n",
            "Testing Accuracy is :  51.145020598863034\n",
            "Training Accuracy is :  50.29920308409333\n",
            "Testing Accuracy is :  51.145020598863034\n",
            "Training Accuracy is :  50.29920308409333\n",
            "Testing Accuracy is :  51.145020598863034\n",
            "Training Accuracy is :  50.29920308409333\n",
            "Testing Accuracy is :  51.145020598863034\n",
            "Training Accuracy is :  50.29920308409332\n",
            "Testing Accuracy is :  51.145020598863034\n",
            "Training Accuracy is :  50.29920308409332\n",
            "Testing Accuracy is :  51.145020598863034\n",
            "Training Accuracy is :  50.29920308409333\n",
            "Testing Accuracy is :  51.145020598863034\n",
            "Training Accuracy is :  50.29920308409333\n",
            "Testing Accuracy is :  51.145020598863034\n",
            "Training Accuracy is :  50.29920308409332\n",
            "Testing Accuracy is :  51.145020598863034\n",
            "Training Accuracy is :  50.29920308409332\n",
            "Testing Accuracy is :  51.145020598863034\n",
            "Training Accuracy is :  50.29920308409332\n",
            "Testing Accuracy is :  51.145020598863034\n",
            "Training Accuracy is :  50.29920308409332\n",
            "Testing Accuracy is :  51.145020598863034\n",
            "Training Accuracy is :  50.29920308409333\n",
            "Testing Accuracy is :  51.145020598863034\n",
            "Training Accuracy is :  50.29920308409333\n",
            "Testing Accuracy is :  51.145020598863034\n",
            "Training Accuracy is :  50.29920308409333\n",
            "Testing Accuracy is :  51.145020598863034\n",
            "50\n",
            "Training Accuracy is :  50.29920308409333\n",
            "Testing Accuracy is :  51.145020598863034\n",
            "Training Accuracy is :  50.29920308409333\n",
            "Testing Accuracy is :  51.145020598863034\n",
            "Training Accuracy is :  50.29920308409332\n",
            "Testing Accuracy is :  51.145020598863034\n",
            "Training Accuracy is :  50.29920308409332\n",
            "Testing Accuracy is :  51.145020598863034\n",
            "Training Accuracy is :  50.29920308409333\n",
            "Testing Accuracy is :  51.145020598863034\n",
            "Training Accuracy is :  50.29920308409333\n",
            "Testing Accuracy is :  51.145020598863034\n",
            "Training Accuracy is :  50.29920308409332\n",
            "Testing Accuracy is :  51.145020598863034\n",
            "Training Accuracy is :  50.29920308409332\n",
            "Testing Accuracy is :  51.145020598863034\n",
            "Training Accuracy is :  50.29920308409333\n",
            "Testing Accuracy is :  51.145020598863034\n",
            "Training Accuracy is :  50.29920308409332\n",
            "Testing Accuracy is :  51.145020598863034\n",
            "Training Accuracy is :  50.29920308409332\n",
            "Testing Accuracy is :  51.145020598863034\n",
            "Training Accuracy is :  50.29920308409333\n",
            "Testing Accuracy is :  51.145020598863034\n",
            "Training Accuracy is :  50.29920308409333\n",
            "Testing Accuracy is :  51.145020598863034\n",
            "Training Accuracy is :  50.29920308409332\n",
            "Testing Accuracy is :  51.145020598863034\n",
            "Training Accuracy is :  50.29920308409333\n",
            "Testing Accuracy is :  51.145020598863034\n",
            "Training Accuracy is :  50.29920308409332\n",
            "Testing Accuracy is :  51.145020598863034\n",
            "Training Accuracy is :  50.29920308409333\n",
            "Testing Accuracy is :  51.145020598863034\n",
            "Training Accuracy is :  50.29920308409333\n",
            "Testing Accuracy is :  51.145020598863034\n",
            "Training Accuracy is :  50.29920308409332\n",
            "Testing Accuracy is :  51.145020598863034\n",
            "Training Accuracy is :  50.29920308409332\n",
            "Testing Accuracy is :  51.145020598863034\n",
            "Training Accuracy is :  50.29920308409333\n",
            "Testing Accuracy is :  51.145020598863034\n",
            "Training Accuracy is :  50.29920308409333\n",
            "Testing Accuracy is :  51.145020598863034\n",
            "Training Accuracy is :  50.29920308409333\n",
            "Testing Accuracy is :  51.145020598863034\n",
            "Training Accuracy is :  50.29920308409332\n",
            "Testing Accuracy is :  51.145020598863034\n",
            "Training Accuracy is :  50.29920308409333\n",
            "Testing Accuracy is :  51.145020598863034\n",
            "Training Accuracy is :  50.29920308409333\n",
            "Testing Accuracy is :  51.145020598863034\n",
            "Training Accuracy is :  50.29920308409333\n",
            "Testing Accuracy is :  51.145020598863034\n",
            "Training Accuracy is :  50.29920308409333\n",
            "Testing Accuracy is :  51.145020598863034\n",
            "Training Accuracy is :  50.29920308409332\n",
            "Testing Accuracy is :  51.145020598863034\n",
            "Training Accuracy is :  50.29920308409332\n",
            "Testing Accuracy is :  51.145020598863034\n",
            "Training Accuracy is :  50.29920308409332\n",
            "Testing Accuracy is :  51.145020598863034\n",
            "Training Accuracy is :  50.29920308409333\n",
            "Testing Accuracy is :  51.145020598863034\n",
            "Training Accuracy is :  50.29920308409333\n",
            "Testing Accuracy is :  51.145020598863034\n",
            "Training Accuracy is :  50.29920308409333\n",
            "Testing Accuracy is :  51.145020598863034\n",
            "Training Accuracy is :  50.29920308409333\n",
            "Testing Accuracy is :  51.145020598863034\n",
            "Training Accuracy is :  53.97105785551943\n",
            "Testing Accuracy is :  53.4108955326935\n",
            "Training Accuracy is :  53.97105785551943\n",
            "Testing Accuracy is :  53.4108955326935\n",
            "Training Accuracy is :  53.97105785551943\n",
            "Testing Accuracy is :  53.4108955326935\n",
            "Training Accuracy is :  53.97105785551943\n",
            "Testing Accuracy is :  53.4108955326935\n",
            "Training Accuracy is :  53.97105785551943\n",
            "Testing Accuracy is :  53.4108955326935\n",
            "Training Accuracy is :  53.97105785551943\n",
            "Testing Accuracy is :  53.4108955326935\n",
            "Training Accuracy is :  53.97105785551943\n",
            "Testing Accuracy is :  53.4108955326935\n",
            "Training Accuracy is :  53.97105785551943\n",
            "Testing Accuracy is :  53.4108955326935\n",
            "Training Accuracy is :  53.97105785551943\n",
            "Testing Accuracy is :  53.4108955326935\n",
            "Training Accuracy is :  53.97105785551943\n",
            "Testing Accuracy is :  53.4108955326935\n",
            "Training Accuracy is :  53.97105785551943\n",
            "Testing Accuracy is :  53.4108955326935\n",
            "Training Accuracy is :  53.97105785551943\n",
            "Testing Accuracy is :  53.4108955326935\n",
            "Training Accuracy is :  53.97105785551943\n",
            "Testing Accuracy is :  53.4108955326935\n",
            "Training Accuracy is :  53.97105785551943\n",
            "Testing Accuracy is :  53.4108955326935\n",
            "Training Accuracy is :  53.97105785551943\n",
            "Testing Accuracy is :  53.4108955326935\n",
            "100\n",
            "Training Accuracy is :  53.97105785551943\n",
            "Testing Accuracy is :  53.4108955326935\n",
            "Training Accuracy is :  53.97105785551943\n",
            "Testing Accuracy is :  53.4108955326935\n",
            "Training Accuracy is :  53.97105785551943\n",
            "Testing Accuracy is :  53.4108955326935\n",
            "Training Accuracy is :  53.97105785551943\n",
            "Testing Accuracy is :  53.4108955326935\n",
            "Training Accuracy is :  53.97105785551943\n",
            "Testing Accuracy is :  53.4108955326935\n",
            "Training Accuracy is :  53.97105785551943\n",
            "Testing Accuracy is :  53.4108955326935\n",
            "Training Accuracy is :  53.97105785551943\n",
            "Testing Accuracy is :  53.4108955326935\n",
            "Training Accuracy is :  53.97105785551943\n",
            "Testing Accuracy is :  53.4108955326935\n",
            "Training Accuracy is :  53.97105785551943\n",
            "Testing Accuracy is :  53.4108955326935\n",
            "Training Accuracy is :  53.97105785551943\n",
            "Testing Accuracy is :  53.4108955326935\n",
            "Training Accuracy is :  53.97105785551943\n",
            "Testing Accuracy is :  53.4108955326935\n",
            "Training Accuracy is :  53.97105785551943\n",
            "Testing Accuracy is :  53.4108955326935\n",
            "Training Accuracy is :  53.97105785551943\n",
            "Testing Accuracy is :  53.4108955326935\n",
            "Training Accuracy is :  53.97105785551943\n",
            "Testing Accuracy is :  53.4108955326935\n",
            "Training Accuracy is :  53.97105785551943\n",
            "Testing Accuracy is :  53.4108955326935\n",
            "Training Accuracy is :  53.97105785551943\n",
            "Testing Accuracy is :  53.4108955326935\n",
            "Training Accuracy is :  53.97105785551943\n",
            "Testing Accuracy is :  53.4108955326935\n",
            "Training Accuracy is :  53.97105785551943\n",
            "Testing Accuracy is :  53.4108955326935\n",
            "Training Accuracy is :  53.97105785551943\n",
            "Testing Accuracy is :  53.4108955326935\n",
            "Training Accuracy is :  53.97105785551943\n",
            "Testing Accuracy is :  53.4108955326935\n",
            "Training Accuracy is :  53.97105785551943\n",
            "Testing Accuracy is :  53.4108955326935\n",
            "Training Accuracy is :  56.86440921775655\n",
            "Testing Accuracy is :  56.43398006858615\n",
            "Training Accuracy is :  56.86440921775655\n",
            "Testing Accuracy is :  56.43398006858615\n",
            "Training Accuracy is :  56.86440921775655\n",
            "Testing Accuracy is :  56.43398006858615\n",
            "Training Accuracy is :  56.86440921775655\n",
            "Testing Accuracy is :  56.43398006858615\n",
            "Training Accuracy is :  56.86440921775655\n",
            "Testing Accuracy is :  56.43398006858615\n",
            "Training Accuracy is :  56.86440921775655\n",
            "Testing Accuracy is :  56.43398006858615\n",
            "Training Accuracy is :  56.86440921775655\n",
            "Testing Accuracy is :  56.43398006858615\n"
          ],
          "name": "stdout"
        },
        {
          "output_type": "error",
          "ename": "ValueError",
          "evalue": "ignored",
          "traceback": [
            "\u001b[0;31m---------------------------------------------------------------------------\u001b[0m",
            "\u001b[0;31mValueError\u001b[0m                                Traceback (most recent call last)",
            "\u001b[0;32m<ipython-input-76-ecd8f6379032>\u001b[0m in \u001b[0;36m<module>\u001b[0;34m()\u001b[0m\n\u001b[1;32m      5\u001b[0m   \u001b[0mtrying_vector\u001b[0m \u001b[0;34m=\u001b[0m \u001b[0mX_train\u001b[0m\u001b[0;34m.\u001b[0m\u001b[0mcopy\u001b[0m\u001b[0;34m(\u001b[0m\u001b[0;34m)\u001b[0m\u001b[0;34m\u001b[0m\u001b[0;34m\u001b[0m\u001b[0m\n\u001b[1;32m      6\u001b[0m   \u001b[0mpca\u001b[0m \u001b[0;34m=\u001b[0m \u001b[0mPCA\u001b[0m\u001b[0;34m(\u001b[0m\u001b[0mn_components\u001b[0m\u001b[0;34m=\u001b[0m\u001b[0mcomponents\u001b[0m\u001b[0;34m)\u001b[0m\u001b[0;34m\u001b[0m\u001b[0;34m\u001b[0m\u001b[0m\n\u001b[0;32m----> 7\u001b[0;31m   \u001b[0mpca\u001b[0m\u001b[0;34m.\u001b[0m\u001b[0mfit\u001b[0m\u001b[0;34m(\u001b[0m\u001b[0mtrying_vector\u001b[0m\u001b[0;34m)\u001b[0m\u001b[0;34m\u001b[0m\u001b[0;34m\u001b[0m\u001b[0m\n\u001b[0m\u001b[1;32m      8\u001b[0m   \u001b[0mtrying_vector\u001b[0m \u001b[0;34m=\u001b[0m \u001b[0mpca\u001b[0m\u001b[0;34m.\u001b[0m\u001b[0mtransform\u001b[0m\u001b[0;34m(\u001b[0m\u001b[0mtrying_vector\u001b[0m\u001b[0;34m)\u001b[0m\u001b[0;34m\u001b[0m\u001b[0;34m\u001b[0m\u001b[0m\n\u001b[1;32m      9\u001b[0m   \u001b[0mmodelkmeans\u001b[0m \u001b[0;34m=\u001b[0m \u001b[0mhmm\u001b[0m\u001b[0;34m.\u001b[0m\u001b[0mGaussianHMM\u001b[0m\u001b[0;34m(\u001b[0m\u001b[0mn_components\u001b[0m\u001b[0;34m=\u001b[0m\u001b[0;36m2\u001b[0m\u001b[0;34m)\u001b[0m\u001b[0;34m\u001b[0m\u001b[0;34m\u001b[0m\u001b[0m\n",
            "\u001b[0;32m/usr/local/lib/python3.7/dist-packages/sklearn/decomposition/_pca.py\u001b[0m in \u001b[0;36mfit\u001b[0;34m(self, X, y)\u001b[0m\n\u001b[1;32m    342\u001b[0m             \u001b[0mReturns\u001b[0m \u001b[0mthe\u001b[0m \u001b[0minstance\u001b[0m \u001b[0mitself\u001b[0m\u001b[0;34m.\u001b[0m\u001b[0;34m\u001b[0m\u001b[0;34m\u001b[0m\u001b[0m\n\u001b[1;32m    343\u001b[0m         \"\"\"\n\u001b[0;32m--> 344\u001b[0;31m         \u001b[0mself\u001b[0m\u001b[0;34m.\u001b[0m\u001b[0m_fit\u001b[0m\u001b[0;34m(\u001b[0m\u001b[0mX\u001b[0m\u001b[0;34m)\u001b[0m\u001b[0;34m\u001b[0m\u001b[0;34m\u001b[0m\u001b[0m\n\u001b[0m\u001b[1;32m    345\u001b[0m         \u001b[0;32mreturn\u001b[0m \u001b[0mself\u001b[0m\u001b[0;34m\u001b[0m\u001b[0;34m\u001b[0m\u001b[0m\n\u001b[1;32m    346\u001b[0m \u001b[0;34m\u001b[0m\u001b[0m\n",
            "\u001b[0;32m/usr/local/lib/python3.7/dist-packages/sklearn/decomposition/_pca.py\u001b[0m in \u001b[0;36m_fit\u001b[0;34m(self, X)\u001b[0m\n\u001b[1;32m    414\u001b[0m         \u001b[0;31m# Call different fits for either full or truncated SVD\u001b[0m\u001b[0;34m\u001b[0m\u001b[0;34m\u001b[0m\u001b[0;34m\u001b[0m\u001b[0m\n\u001b[1;32m    415\u001b[0m         \u001b[0;32mif\u001b[0m \u001b[0mself\u001b[0m\u001b[0;34m.\u001b[0m\u001b[0m_fit_svd_solver\u001b[0m \u001b[0;34m==\u001b[0m \u001b[0;34m'full'\u001b[0m\u001b[0;34m:\u001b[0m\u001b[0;34m\u001b[0m\u001b[0;34m\u001b[0m\u001b[0m\n\u001b[0;32m--> 416\u001b[0;31m             \u001b[0;32mreturn\u001b[0m \u001b[0mself\u001b[0m\u001b[0;34m.\u001b[0m\u001b[0m_fit_full\u001b[0m\u001b[0;34m(\u001b[0m\u001b[0mX\u001b[0m\u001b[0;34m,\u001b[0m \u001b[0mn_components\u001b[0m\u001b[0;34m)\u001b[0m\u001b[0;34m\u001b[0m\u001b[0;34m\u001b[0m\u001b[0m\n\u001b[0m\u001b[1;32m    417\u001b[0m         \u001b[0;32melif\u001b[0m \u001b[0mself\u001b[0m\u001b[0;34m.\u001b[0m\u001b[0m_fit_svd_solver\u001b[0m \u001b[0;32min\u001b[0m \u001b[0;34m[\u001b[0m\u001b[0;34m'arpack'\u001b[0m\u001b[0;34m,\u001b[0m \u001b[0;34m'randomized'\u001b[0m\u001b[0;34m]\u001b[0m\u001b[0;34m:\u001b[0m\u001b[0;34m\u001b[0m\u001b[0;34m\u001b[0m\u001b[0m\n\u001b[1;32m    418\u001b[0m             \u001b[0;32mreturn\u001b[0m \u001b[0mself\u001b[0m\u001b[0;34m.\u001b[0m\u001b[0m_fit_truncated\u001b[0m\u001b[0;34m(\u001b[0m\u001b[0mX\u001b[0m\u001b[0;34m,\u001b[0m \u001b[0mn_components\u001b[0m\u001b[0;34m,\u001b[0m \u001b[0mself\u001b[0m\u001b[0;34m.\u001b[0m\u001b[0m_fit_svd_solver\u001b[0m\u001b[0;34m)\u001b[0m\u001b[0;34m\u001b[0m\u001b[0;34m\u001b[0m\u001b[0m\n",
            "\u001b[0;32m/usr/local/lib/python3.7/dist-packages/sklearn/decomposition/_pca.py\u001b[0m in \u001b[0;36m_fit_full\u001b[0;34m(self, X, n_components)\u001b[0m\n\u001b[1;32m    433\u001b[0m                              \u001b[0;34m\"min(n_samples, n_features)=%r with \"\u001b[0m\u001b[0;34m\u001b[0m\u001b[0;34m\u001b[0m\u001b[0m\n\u001b[1;32m    434\u001b[0m                              \u001b[0;34m\"svd_solver='full'\"\u001b[0m\u001b[0;34m\u001b[0m\u001b[0;34m\u001b[0m\u001b[0m\n\u001b[0;32m--> 435\u001b[0;31m                              % (n_components, min(n_samples, n_features)))\n\u001b[0m\u001b[1;32m    436\u001b[0m         \u001b[0;32melif\u001b[0m \u001b[0mn_components\u001b[0m \u001b[0;34m>=\u001b[0m \u001b[0;36m1\u001b[0m\u001b[0;34m:\u001b[0m\u001b[0;34m\u001b[0m\u001b[0;34m\u001b[0m\u001b[0m\n\u001b[1;32m    437\u001b[0m             \u001b[0;32mif\u001b[0m \u001b[0;32mnot\u001b[0m \u001b[0misinstance\u001b[0m\u001b[0;34m(\u001b[0m\u001b[0mn_components\u001b[0m\u001b[0;34m,\u001b[0m \u001b[0mnumbers\u001b[0m\u001b[0;34m.\u001b[0m\u001b[0mIntegral\u001b[0m\u001b[0;34m)\u001b[0m\u001b[0;34m:\u001b[0m\u001b[0;34m\u001b[0m\u001b[0;34m\u001b[0m\u001b[0m\n",
            "\u001b[0;31mValueError\u001b[0m: n_components=129 must be between 0 and min(n_samples, n_features)=128 with svd_solver='full'"
          ]
        }
      ]
    },
    {
      "cell_type": "code",
      "metadata": {
        "id": "O7i_PYMaahSq"
      },
      "source": [
        "import matplotlib.pyplot as plt\n",
        "\n",
        "x = [i for i in range(1, 200)]\n",
        "y = train_accuracy\n",
        "y2 = test_accuracy\n",
        "plt.plot(x, y, label = \"train-accuracy\")\n",
        "plt.plot(x, y2, label = \"test-accuracy\")\n",
        "\n",
        "plt.xlabel('Number of Components')\n",
        "plt.ylabel('Accuracy')\n",
        "plt.title('PCA Prediction!')\n",
        "\n",
        "plt.legend()\n",
        "plt.show()\n",
        "plt.savefig('Pretrained_embedding_hmm_without_pos.png')"
      ],
      "execution_count": null,
      "outputs": []
    },
    {
      "cell_type": "code",
      "metadata": {
        "id": "tPgTNZ867WKm"
      },
      "source": [
        "train_set, test_set, X_train, X_test = preprocess_data(with_pos_tag = True)"
      ],
      "execution_count": null,
      "outputs": []
    },
    {
      "cell_type": "code",
      "metadata": {
        "id": "AOo0Mg1Y7Z_g",
        "colab": {
          "base_uri": "https://localhost:8080/"
        },
        "outputId": "eba3cb87-c8e5-464a-d92e-cb8d933ef73e"
      },
      "source": [
        "modelkmeans = KMeans(n_clusters=2, init='k-means++', n_init=10, n_jobs = -1)\n",
        "modelkmeans.fit(X_train)"
      ],
      "execution_count": null,
      "outputs": [
        {
          "output_type": "execute_result",
          "data": {
            "text/plain": [
              "KMeans(algorithm='auto', copy_x=True, init='k-means++', max_iter=300,\n",
              "       n_clusters=2, n_init=10, n_jobs=-1, precompute_distances='auto',\n",
              "       random_state=None, tol=0.0001, verbose=0)"
            ]
          },
          "metadata": {
            "tags": []
          },
          "execution_count": 68
        }
      ]
    },
    {
      "cell_type": "code",
      "metadata": {
        "id": "_q9_miNk7cQq"
      },
      "source": [
        "Y_train = modelkmeans.predict(X_train)\n",
        "Y_test = modelkmeans.predict(X_test)"
      ],
      "execution_count": null,
      "outputs": []
    },
    {
      "cell_type": "code",
      "metadata": {
        "id": "ZxJk2MDl7fAH",
        "colab": {
          "base_uri": "https://localhost:8080/"
        },
        "outputId": "cb7a709a-6c49-4b8d-b1b0-e2d341bbc13e"
      },
      "source": [
        "measure_accuracy(train_set, test_set, Y_train, Y_test, with_pos_tag = True)"
      ],
      "execution_count": null,
      "outputs": [
        {
          "output_type": "stream",
          "text": [
            "Training Accuracy is :  50.29920308409333\n",
            "Testing Accuracy is :  51.145020598863034\n"
          ],
          "name": "stdout"
        },
        {
          "output_type": "execute_result",
          "data": {
            "text/plain": [
              "(50.29920308409333, 51.145020598863034)"
            ]
          },
          "metadata": {
            "tags": []
          },
          "execution_count": 70
        }
      ]
    },
    {
      "cell_type": "code",
      "metadata": {
        "id": "wtPjJuXj8iGC",
        "colab": {
          "base_uri": "https://localhost:8080/"
        },
        "outputId": "163c530a-16e1-46dd-8b4f-fcce53c38ea6"
      },
      "source": [
        "model = hmm.GaussianHMM(n_components=2)\n",
        "model.fit(X_train)"
      ],
      "execution_count": null,
      "outputs": [
        {
          "output_type": "execute_result",
          "data": {
            "text/plain": [
              "GaussianHMM(algorithm='viterbi', covariance_type='diag', covars_prior=0.01,\n",
              "            covars_weight=1, init_params='stmc', means_prior=0, means_weight=0,\n",
              "            min_covar=0.001, n_components=2, n_iter=10, params='stmc',\n",
              "            random_state=None, startprob_prior=1.0, tol=0.01,\n",
              "            transmat_prior=1.0, verbose=False)"
            ]
          },
          "metadata": {
            "tags": []
          },
          "execution_count": 71
        }
      ]
    },
    {
      "cell_type": "code",
      "metadata": {
        "id": "f8YTaOksauVY"
      },
      "source": [
        "Y_train = model.predict(X_train)\n",
        "Y_test = model.predict(X_test)"
      ],
      "execution_count": null,
      "outputs": []
    },
    {
      "cell_type": "code",
      "metadata": {
        "id": "A1DaTHK3azKl",
        "colab": {
          "base_uri": "https://localhost:8080/"
        },
        "outputId": "2de78201-36c3-4f7b-de1c-46f3d0d92693"
      },
      "source": [
        "measure_accuracy(train_set, test_set, Y_train, Y_test)"
      ],
      "execution_count": null,
      "outputs": [
        {
          "output_type": "stream",
          "text": [
            "Training Accuracy is :  50.29920308409332\n",
            "Testing Accuracy is :  51.145020598863034\n"
          ],
          "name": "stdout"
        },
        {
          "output_type": "execute_result",
          "data": {
            "text/plain": [
              "(50.29920308409332, 51.145020598863034)"
            ]
          },
          "metadata": {
            "tags": []
          },
          "execution_count": 73
        }
      ]
    },
    {
      "cell_type": "code",
      "metadata": {
        "id": "Swc-xGDrazie"
      },
      "source": [
        "import pickle\n",
        "pickle.dump(modelkmeans, open(\"model_embedding_with_pos_kmeans.pkl\", \"wb\"))\n",
        "pickle.dump(model, open(\"model_embedding_with_pos_hmm.pkl\", \"wb\"))"
      ],
      "execution_count": null,
      "outputs": []
    },
    {
      "cell_type": "code",
      "metadata": {
        "id": "74QwY9V-a6Rm",
        "colab": {
          "base_uri": "https://localhost:8080/",
          "height": 862
        },
        "outputId": "0d6dbecd-6a32-4597-9c23-7ee7237cb702"
      },
      "source": [
        "from sklearn.decomposition import PCA\n",
        "\n",
        "train_accuracy = []\n",
        "test_accuracy = []\n",
        "for components in range(1, 200):\n",
        "  trying_vector = X_train.copy()\n",
        "  pca = PCA(n_components=components)\n",
        "  pca.fit(trying_vector)\n",
        "  trying_vector = pca.transform(trying_vector)\n",
        "  modelkmeans = KMeans(n_clusters=2, init='k-means++', n_init=10, n_jobs = -1)\n",
        "  modelkmeans.fit(trying_vector)\n",
        "  train_results = modelkmeans.predict(trying_vector)\n",
        "  testing_vector = X_test.copy()\n",
        "  testing_vector = pca.transform(testing_vector)\n",
        "  test_results = modelkmeans.predict(testing_vector)\n",
        "  train_acc, test_acc = measure_accuracy(train_set, test_set, train_results, test_results)\n",
        "  train_accuracy.append(train_acc)\n",
        "  test_accuracy.append(test_acc)\n",
        "  if(components % 50 == 0):\n",
        "    print(components)"
      ],
      "execution_count": null,
      "outputs": [
        {
          "output_type": "stream",
          "text": [
            "Training Accuracy is :  50.29920308409333\n",
            "Testing Accuracy is :  51.145020598863034\n",
            "Training Accuracy is :  50.29920308409333\n",
            "Testing Accuracy is :  51.145020598863034\n",
            "Training Accuracy is :  50.29920308409333\n",
            "Testing Accuracy is :  51.145020598863034\n",
            "Training Accuracy is :  50.29920308409333\n",
            "Testing Accuracy is :  51.145020598863034\n",
            "Training Accuracy is :  50.29920308409333\n",
            "Testing Accuracy is :  51.145020598863034\n",
            "Training Accuracy is :  50.29920308409332\n",
            "Testing Accuracy is :  51.145020598863034\n",
            "Training Accuracy is :  50.29920308409332\n",
            "Testing Accuracy is :  51.145020598863034\n",
            "Training Accuracy is :  50.29920308409333\n",
            "Testing Accuracy is :  51.145020598863034\n",
            "Training Accuracy is :  50.29920308409332\n",
            "Testing Accuracy is :  51.145020598863034\n",
            "Training Accuracy is :  50.29920308409332\n",
            "Testing Accuracy is :  51.145020598863034\n",
            "Training Accuracy is :  50.29920308409332\n",
            "Testing Accuracy is :  51.145020598863034\n",
            "Training Accuracy is :  50.29920308409333\n",
            "Testing Accuracy is :  51.145020598863034\n",
            "Training Accuracy is :  50.29920308409333\n",
            "Testing Accuracy is :  51.145020598863034\n"
          ],
          "name": "stdout"
        },
        {
          "output_type": "error",
          "ename": "KeyboardInterrupt",
          "evalue": "ignored",
          "traceback": [
            "\u001b[0;31m---------------------------------------------------------------------------\u001b[0m",
            "\u001b[0;31mKeyboardInterrupt\u001b[0m                         Traceback (most recent call last)",
            "\u001b[0;32m<ipython-input-75-d857064d83bc>\u001b[0m in \u001b[0;36m<module>\u001b[0;34m()\u001b[0m\n\u001b[1;32m      9\u001b[0m   \u001b[0mtrying_vector\u001b[0m \u001b[0;34m=\u001b[0m \u001b[0mpca\u001b[0m\u001b[0;34m.\u001b[0m\u001b[0mtransform\u001b[0m\u001b[0;34m(\u001b[0m\u001b[0mtrying_vector\u001b[0m\u001b[0;34m)\u001b[0m\u001b[0;34m\u001b[0m\u001b[0;34m\u001b[0m\u001b[0m\n\u001b[1;32m     10\u001b[0m   \u001b[0mmodelkmeans\u001b[0m \u001b[0;34m=\u001b[0m \u001b[0mKMeans\u001b[0m\u001b[0;34m(\u001b[0m\u001b[0mn_clusters\u001b[0m\u001b[0;34m=\u001b[0m\u001b[0;36m2\u001b[0m\u001b[0;34m,\u001b[0m \u001b[0minit\u001b[0m\u001b[0;34m=\u001b[0m\u001b[0;34m'k-means++'\u001b[0m\u001b[0;34m,\u001b[0m \u001b[0mn_init\u001b[0m\u001b[0;34m=\u001b[0m\u001b[0;36m10\u001b[0m\u001b[0;34m,\u001b[0m \u001b[0mn_jobs\u001b[0m \u001b[0;34m=\u001b[0m \u001b[0;34m-\u001b[0m\u001b[0;36m1\u001b[0m\u001b[0;34m)\u001b[0m\u001b[0;34m\u001b[0m\u001b[0;34m\u001b[0m\u001b[0m\n\u001b[0;32m---> 11\u001b[0;31m   \u001b[0mmodelkmeans\u001b[0m\u001b[0;34m.\u001b[0m\u001b[0mfit\u001b[0m\u001b[0;34m(\u001b[0m\u001b[0mtrying_vector\u001b[0m\u001b[0;34m)\u001b[0m\u001b[0;34m\u001b[0m\u001b[0;34m\u001b[0m\u001b[0m\n\u001b[0m\u001b[1;32m     12\u001b[0m   \u001b[0mtrain_results\u001b[0m \u001b[0;34m=\u001b[0m \u001b[0mmodelkmeans\u001b[0m\u001b[0;34m.\u001b[0m\u001b[0mpredict\u001b[0m\u001b[0;34m(\u001b[0m\u001b[0mtrying_vector\u001b[0m\u001b[0;34m)\u001b[0m\u001b[0;34m\u001b[0m\u001b[0;34m\u001b[0m\u001b[0m\n\u001b[1;32m     13\u001b[0m   \u001b[0mtesting_vector\u001b[0m \u001b[0;34m=\u001b[0m \u001b[0mX_test\u001b[0m\u001b[0;34m.\u001b[0m\u001b[0mcopy\u001b[0m\u001b[0;34m(\u001b[0m\u001b[0;34m)\u001b[0m\u001b[0;34m\u001b[0m\u001b[0;34m\u001b[0m\u001b[0m\n",
            "\u001b[0;32m/usr/local/lib/python3.7/dist-packages/sklearn/cluster/_kmeans.py\u001b[0m in \u001b[0;36mfit\u001b[0;34m(self, X, y, sample_weight)\u001b[0m\n\u001b[1;32m    898\u001b[0m         \u001b[0;31m# subtract of mean of x for more accurate distance computations\u001b[0m\u001b[0;34m\u001b[0m\u001b[0;34m\u001b[0m\u001b[0;34m\u001b[0m\u001b[0m\n\u001b[1;32m    899\u001b[0m         \u001b[0;32mif\u001b[0m \u001b[0;32mnot\u001b[0m \u001b[0msp\u001b[0m\u001b[0;34m.\u001b[0m\u001b[0missparse\u001b[0m\u001b[0;34m(\u001b[0m\u001b[0mX\u001b[0m\u001b[0;34m)\u001b[0m\u001b[0;34m:\u001b[0m\u001b[0;34m\u001b[0m\u001b[0;34m\u001b[0m\u001b[0m\n\u001b[0;32m--> 900\u001b[0;31m             \u001b[0mX_mean\u001b[0m \u001b[0;34m=\u001b[0m \u001b[0mX\u001b[0m\u001b[0;34m.\u001b[0m\u001b[0mmean\u001b[0m\u001b[0;34m(\u001b[0m\u001b[0maxis\u001b[0m\u001b[0;34m=\u001b[0m\u001b[0;36m0\u001b[0m\u001b[0;34m)\u001b[0m\u001b[0;34m\u001b[0m\u001b[0;34m\u001b[0m\u001b[0m\n\u001b[0m\u001b[1;32m    901\u001b[0m             \u001b[0;31m# The copy was already done above\u001b[0m\u001b[0;34m\u001b[0m\u001b[0;34m\u001b[0m\u001b[0;34m\u001b[0m\u001b[0m\n\u001b[1;32m    902\u001b[0m             \u001b[0mX\u001b[0m \u001b[0;34m-=\u001b[0m \u001b[0mX_mean\u001b[0m\u001b[0;34m\u001b[0m\u001b[0;34m\u001b[0m\u001b[0m\n",
            "\u001b[0;32m/usr/local/lib/python3.7/dist-packages/numpy/core/_methods.py\u001b[0m in \u001b[0;36m_mean\u001b[0;34m(a, axis, dtype, out, keepdims)\u001b[0m\n\u001b[1;32m    158\u001b[0m             \u001b[0mis_float16_result\u001b[0m \u001b[0;34m=\u001b[0m \u001b[0;32mTrue\u001b[0m\u001b[0;34m\u001b[0m\u001b[0;34m\u001b[0m\u001b[0m\n\u001b[1;32m    159\u001b[0m \u001b[0;34m\u001b[0m\u001b[0m\n\u001b[0;32m--> 160\u001b[0;31m     \u001b[0mret\u001b[0m \u001b[0;34m=\u001b[0m \u001b[0mumr_sum\u001b[0m\u001b[0;34m(\u001b[0m\u001b[0marr\u001b[0m\u001b[0;34m,\u001b[0m \u001b[0maxis\u001b[0m\u001b[0;34m,\u001b[0m \u001b[0mdtype\u001b[0m\u001b[0;34m,\u001b[0m \u001b[0mout\u001b[0m\u001b[0;34m,\u001b[0m \u001b[0mkeepdims\u001b[0m\u001b[0;34m)\u001b[0m\u001b[0;34m\u001b[0m\u001b[0;34m\u001b[0m\u001b[0m\n\u001b[0m\u001b[1;32m    161\u001b[0m     \u001b[0;32mif\u001b[0m \u001b[0misinstance\u001b[0m\u001b[0;34m(\u001b[0m\u001b[0mret\u001b[0m\u001b[0;34m,\u001b[0m \u001b[0mmu\u001b[0m\u001b[0;34m.\u001b[0m\u001b[0mndarray\u001b[0m\u001b[0;34m)\u001b[0m\u001b[0;34m:\u001b[0m\u001b[0;34m\u001b[0m\u001b[0;34m\u001b[0m\u001b[0m\n\u001b[1;32m    162\u001b[0m         ret = um.true_divide(\n",
            "\u001b[0;31mKeyboardInterrupt\u001b[0m: "
          ]
        }
      ]
    },
    {
      "cell_type": "code",
      "metadata": {
        "id": "vgrbliZxa7OH"
      },
      "source": [
        "import matplotlib.pyplot as plt\n",
        "\n",
        "x = [i for i in range(1, 200)]\n",
        "y = train_accuracy\n",
        "y2 = test_accuracy\n",
        "plt.plot(x, y, label = \"train-accuracy\")\n",
        "plt.plot(x, y2, label = \"test-accuracy\")\n",
        "\n",
        "plt.xlabel('Number of Components')\n",
        "plt.ylabel('Accuracy')\n",
        "plt.title('PCA Prediction!')\n",
        "\n",
        "plt.legend()\n",
        "plt.show()\n",
        "plt.savefig('Pretrained_embedding_kmean_with_pos.png')"
      ],
      "execution_count": null,
      "outputs": []
    },
    {
      "cell_type": "code",
      "metadata": {
        "id": "b0D1KpKGbIEK"
      },
      "source": [
        "\n",
        "train_accuracy = []\n",
        "test_accuracy = []\n",
        "for components in range(1, 200):\n",
        "  trying_vector = X_train.copy()\n",
        "  pca = PCA(n_components=components)\n",
        "  pca.fit(trying_vector)\n",
        "  trying_vector = pca.transform(trying_vector)\n",
        "  modelkmeans = hmm.GaussianHMM(n_components=2)\n",
        "  modelkmeans.fit(trying_vector)\n",
        "  train_results = modelkmeans.predict(trying_vector)\n",
        "  testing_vector = X_test.copy()\n",
        "  testing_vector = pca.transform(testing_vector)\n",
        "  test_results = modelkmeans.predict(testing_vector)\n",
        "  train_acc, test_acc = measure_accuracy(train_set, test_set, train_results, test_results)\n",
        "  train_accuracy.append(train_acc)\n",
        "  test_accuracy.append(test_acc)\n",
        "  if(components % 50 == 0):\n",
        "    print(components)"
      ],
      "execution_count": null,
      "outputs": []
    },
    {
      "cell_type": "code",
      "metadata": {
        "id": "Ott_bg3EbJAQ"
      },
      "source": [
        "import matplotlib.pyplot as plt\n",
        "\n",
        "x = [i for i in range(1, 200)]\n",
        "y = train_accuracy\n",
        "y2 = test_accuracy\n",
        "plt.plot(x, y, label = \"train-accuracy\")\n",
        "plt.plot(x, y2, label = \"test-accuracy\")\n",
        "\n",
        "plt.xlabel('Number of Components')\n",
        "plt.ylabel('Accuracy')\n",
        "plt.title('PCA Prediction!')\n",
        "\n",
        "plt.legend()\n",
        "plt.show()\n",
        "plt.savefig('Pretrained_embedding_hmm_without_pos.png')"
      ],
      "execution_count": null,
      "outputs": []
    }
  ]
}